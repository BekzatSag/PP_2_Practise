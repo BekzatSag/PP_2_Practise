{
 "cells": [
  {
   "cell_type": "markdown",
   "metadata": {},
   "source": [
    "1) Use for, .split () and if to create an operator that will print words starting with 't':"
   ]
  },
  {
   "cell_type": "code",
   "execution_count": 1,
   "metadata": {},
   "outputs": [
    {
     "name": "stdout",
     "output_type": "stream",
     "text": [
      "the\n",
      "that\n",
      "t\n",
      "this\n"
     ]
    }
   ],
   "source": [
    "st = 'Print only the words that start with t in this sentence'\n",
    "list_st = st.split()\n",
    "for i in list_st:\n",
    "    if i[0] == 't':\n",
    "        print(i)\n",
    "\n",
    "# Код\n"
   ]
  },
  {
   "cell_type": "markdown",
   "metadata": {},
   "source": [
    "2) Use Range () to print all even numbers from 0 to 10. (Do not use operators for, While, if)"
   ]
  },
  {
   "cell_type": "code",
   "execution_count": 21,
   "metadata": {},
   "outputs": [
    {
     "name": "stdout",
     "output_type": "stream",
     "text": [
      "2 4 6 8\n",
      "[2, 4, 6, 8]\n"
     ]
    }
   ],
   "source": [
    "# Код\n",
    "print(*range(2,10,2))\n",
    "print(list(range(2,10,2)))"
   ]
  },
  {
   "cell_type": "markdown",
   "metadata": {},
   "source": [
    "3) Complete ** List ** of all numbers from 1 to 50, which are divided into 3. (namely the list)"
   ]
  },
  {
   "cell_type": "code",
   "execution_count": 4,
   "metadata": {},
   "outputs": [
    {
     "name": "stdout",
     "output_type": "stream",
     "text": [
      "[3, 6, 9, 12, 15, 18, 21, 24, 27, 30, 33, 36, 39, 42, 45, 48]\n"
     ]
    }
   ],
   "source": [
    "# Код\n",
    "list_nums = [i for i in range(1, 51) if i%3==0]\n",
    "print(list_nums)"
   ]
  },
  {
   "cell_type": "markdown",
   "metadata": {},
   "source": [
    "4) View the line below and, if the length of the word is even, bring “even!”"
   ]
  },
  {
   "cell_type": "code",
   "execution_count": 6,
   "metadata": {},
   "outputs": [
    {
     "name": "stdout",
     "output_type": "stream",
     "text": [
      "odd\n",
      "odd\n",
      "even\n",
      "odd\n",
      "even\n",
      "odd\n",
      "even\n",
      "odd\n",
      "even\n",
      "odd\n",
      "even\n",
      "odd\n",
      "odd\n",
      "even\n",
      "odd\n",
      "even\n",
      "odd\n",
      "even\n",
      "odd\n",
      "even\n",
      "odd\n",
      "odd\n"
     ]
    }
   ],
   "source": [
    "st = 'Print every word in this sentence that has an even number of letters'\n",
    "list_st_2 = st.split()\n",
    "for i in list_st_2:\n",
    "    if len(i)%2==0:\n",
    "        print(\"even\")\n",
    "    print(\"odd\")\n",
    "# Код\n"
   ]
  },
  {
   "cell_type": "markdown",
   "metadata": {},
   "source": [
    "5) Create a list of the first letters of each word in a line below:"
   ]
  },
  {
   "cell_type": "code",
   "execution_count": 7,
   "metadata": {},
   "outputs": [
    {
     "name": "stdout",
     "output_type": "stream",
     "text": [
      "['C', 'a', 'l', 'o', 't', 'f', 'l', 'o', 'e', 'w', 'i', 't', 's']\n"
     ]
    }
   ],
   "source": [
    "st = 'Create a list of the first letters of every word in this string'\n",
    "list_st_3 = st.split(' ')\n",
    "list_first_letters = []\n",
    "for i in list_st_3:\n",
    "    list_first_letters.append(i[0])\n",
    "print(list_first_letters)\n",
    "# Код"
   ]
  },
  {
   "cell_type": "markdown",
   "metadata": {},
   "source": [
    "6) Find the amount of numbers in the list below: (with two ways)"
   ]
  },
  {
   "cell_type": "code",
   "execution_count": 9,
   "metadata": {},
   "outputs": [
    {
     "name": "stdout",
     "output_type": "stream",
     "text": [
      "10\n",
      "10\n"
     ]
    }
   ],
   "source": [
    "l = [1,2,3,4,5,6,7,8,9,10]\n",
    "print(len(l))\n",
    "# Код 1"
   ]
  },
  {
   "cell_type": "code",
   "execution_count": null,
   "metadata": {},
   "outputs": [],
   "source": [
    "l = [1,2,3,4,5,6,7,8,9,10]\n",
    "counter = 0\n",
    "for i in l:\n",
    "    counter+=1\n",
    "print(counter)\n",
    "# Код 2"
   ]
  },
  {
   "cell_type": "markdown",
   "metadata": {},
   "source": [
    "7) Write the program on Python to multiply all the elements in the list."
   ]
  },
  {
   "cell_type": "code",
   "execution_count": 10,
   "metadata": {},
   "outputs": [
    {
     "name": "stdout",
     "output_type": "stream",
     "text": [
      "1890\n"
     ]
    }
   ],
   "source": [
    "l = [2,5,7,3,9]\n",
    "mupltiple = 1\n",
    "for i in l:\n",
    "    mupltiple*=i\n",
    "print(mupltiple)\n",
    "# Код"
   ]
  },
  {
   "cell_type": "markdown",
   "metadata": {},
   "source": [
    "8) Write the program on Python to get the largest number from the list."
   ]
  },
  {
   "cell_type": "code",
   "execution_count": 11,
   "metadata": {},
   "outputs": [
    {
     "name": "stdout",
     "output_type": "stream",
     "text": [
      "101\n"
     ]
    }
   ],
   "source": [
    "l = [2,5,7,3,9,11,50,101]\n",
    "large_num = l[0]\n",
    "for i in range(1, len(l)):\n",
    "    if large_num < l[i]:\n",
    "        large_num = l[i]\n",
    "print(large_num)\n",
    "# Код"
   ]
  },
  {
   "cell_type": "markdown",
   "metadata": {},
   "source": [
    "9) Write the program on Python to find common elements from two lists."
   ]
  },
  {
   "cell_type": "code",
   "execution_count": 14,
   "metadata": {},
   "outputs": [
    {
     "name": "stdout",
     "output_type": "stream",
     "text": [
      "{'Darkhan', 'Azamat'}\n"
     ]
    }
   ],
   "source": [
    "team_1 = [\"Darkhan\", \"Abilay\", \"Azamat\", \"Zhasulan\"]\n",
    "team_2 = [\"Azamat\", \"Darkhan\", \"Aset\", \"Bolat\",\"Saken\"]\n",
    "s1 = set(team_1)\n",
    "s2 = set(team_2)\n",
    "common = s1.intersection(s2)\n",
    "print(common)\n",
    "# Код"
   ]
  },
  {
   "cell_type": "markdown",
   "metadata": {},
   "source": [
    "10) Write the program on Python to expand the list without .Append ()."
   ]
  },
  {
   "cell_type": "code",
   "execution_count": 15,
   "metadata": {},
   "outputs": [
    {
     "name": "stdout",
     "output_type": "stream",
     "text": [
      "[10, 20, 30, 1, 2, 3, 4, 5, 6]\n"
     ]
    }
   ],
   "source": [
    "l_1 = [10,20,30]\n",
    "l_2 = [1,2,3,4,5,6]\n",
    "l_1.extend(l_2)\n",
    "print(l_1)\n",
    "# Вывод должен быть: [10,20,30,1,2,3,4,5,6]\n",
    "# Код      "
   ]
  },
  {
   "cell_type": "markdown",
   "metadata": {},
   "source": [
    "11) Write the program on Python to summarize all the elements in the dictionary."
   ]
  },
  {
   "cell_type": "code",
   "execution_count": 17,
   "metadata": {},
   "outputs": [
    {
     "name": "stdout",
     "output_type": "stream",
     "text": [
      "293\n"
     ]
    }
   ],
   "source": [
    "my_dict = {'data1':100,'data2':-54,'data3':247}\n",
    "sum = 0\n",
    "for i in my_dict.values():\n",
    "    sum+=i\n",
    "print(sum)\n",
    "# Код"
   ]
  },
  {
   "cell_type": "markdown",
   "metadata": {},
   "source": [
    "12) Write the program on Python to get the maximum and minimum value in the dictionary."
   ]
  },
  {
   "cell_type": "code",
   "execution_count": 20,
   "metadata": {},
   "outputs": [
    {
     "name": "stdout",
     "output_type": "stream",
     "text": [
      "-54\n",
      "247\n"
     ]
    }
   ],
   "source": [
    "my_dict = {'data1':100,'data2':-54,'data3':247}\n",
    "# Код\n",
    "counter = 0\n",
    "for i in my_dict.values():\n",
    "    if counter == 0:\n",
    "        min = i\n",
    "        max = i\n",
    "    if min > i:\n",
    "        min = i\n",
    "    if max < i:\n",
    "        max = i\n",
    "    counter+=1\n",
    "print(min)\n",
    "print(max)"
   ]
  },
  {
   "cell_type": "markdown",
   "metadata": {},
   "source": [
    "13) Write the program on Python to find those numbers that are divided by 7 and are multiple 5, between 1500 and 2700 (both are included)."
   ]
  },
  {
   "cell_type": "code",
   "execution_count": 21,
   "metadata": {},
   "outputs": [
    {
     "name": "stdout",
     "output_type": "stream",
     "text": [
      "[1505, 1540, 1575, 1610, 1645, 1680, 1715, 1750, 1785, 1820, 1855, 1890, 1925, 1960, 1995]\n"
     ]
    }
   ],
   "source": [
    "list_nums = [i for i in range(1500, 2001) if i%7==0 and i%5==0]\n",
    "print(list_nums)"
   ]
  },
  {
   "cell_type": "markdown",
   "metadata": {},
   "source": [
    "14) Write the program on Python to count the number of even and odd numbers from a series of numbers."
   ]
  },
  {
   "cell_type": "code",
   "execution_count": 23,
   "metadata": {},
   "outputs": [
    {
     "name": "stdout",
     "output_type": "stream",
     "text": [
      "5\n",
      "6\n"
     ]
    }
   ],
   "source": [
    "numbers = (10,11,12,13,14,15,16,17,18,19,20)\n",
    "count_odd = 0\n",
    "count_even = 0\n",
    "for i in numbers:\n",
    "    if i%2==0:\n",
    "        count_even+=1\n",
    "    elif i==0:\n",
    "        continue\n",
    "    else:\n",
    "        count_odd+=1\n",
    "print(count_odd)\n",
    "print(count_even)\n",
    "# Код"
   ]
  },
  {
   "cell_type": "markdown",
   "metadata": {},
   "source": [
    "15) Write the program on Python to get a series of Fibonacci from 0 to 50."
   ]
  },
  {
   "cell_type": "code",
   "execution_count": 19,
   "metadata": {},
   "outputs": [
    {
     "name": "stdout",
     "output_type": "stream",
     "text": [
      "[1, 1, 2, 3, 5, 8, 13, 21, 34]\n"
     ]
    }
   ],
   "source": [
    "def funct (num):\n",
    "    if num == 1 or num ==0 or num==2:\n",
    "        return 1\n",
    "    return funct(num-1) + funct(num-2) \n",
    "count = 1 \n",
    "arr =[]\n",
    "while(True):\n",
    "    fib = funct(count)\n",
    "    if fib >50: break\n",
    "    arr.append(fib)\n",
    "    count+=1\n",
    "print(arr)\n",
    "\n"
   ]
  },
  {
   "cell_type": "markdown",
   "metadata": {},
   "source": [
    "16) Write the program on Python for calculating the age of the dog by dog ​​years. (For a given number 12, the conclusion should be 61 = 2x10.5+10x4)\n",
    "\n",
    "** Note: During the first two years of a year, the dog is 10.5 human years. After that, every year the dog is 4 human years. **"
   ]
  },
  {
   "cell_type": "code",
   "execution_count": 9,
   "metadata": {},
   "outputs": [
    {
     "name": "stdout",
     "output_type": "stream",
     "text": [
      "10.5\n"
     ]
    }
   ],
   "source": [
    "num = int(input())\n",
    "print(10.5*(num%10)+4*(num//10)*10)\n"
   ]
  },
  {
   "cell_type": "markdown",
   "metadata": {},
   "source": [
    "17) Write the program on Python to convert the name of the month into the number of days."
   ]
  },
  {
   "cell_type": "code",
   "execution_count": 10,
   "metadata": {},
   "outputs": [
    {
     "name": "stdout",
     "output_type": "stream",
     "text": [
      "31\n"
     ]
    }
   ],
   "source": [
    "d ={\"January\":31, \"February\":28, \"March\":31, \"April\":30, \"May\":31, \"June\":30, \"July\":31, \"August\":31, \"September\":30, \"October\":31, \"November\":30, \"December\":31}\n",
    "month = input()\n",
    "print(d[month])"
   ]
  },
  {
   "cell_type": "markdown",
   "metadata": {},
   "source": [
    "18) Check whether the word is a palindrome or not.\n",
    "\n",
    "** Note: The line is considered the palindrome if it is read the same in both directions. **"
   ]
  },
  {
   "cell_type": "code",
   "execution_count": 11,
   "metadata": {},
   "outputs": [
    {
     "name": "stdout",
     "output_type": "stream",
     "text": [
      "Yes\n"
     ]
    }
   ],
   "source": [
    "word = \"aibohphobia\"\n",
    "word_rev = word[::-1]\n",
    "if(word==word_rev):\n",
    "    print(\"Yes\")\n",
    "else: print(\"No\")\n",
    "# Код"
   ]
  },
  {
   "cell_type": "markdown",
   "metadata": {},
   "source": [
    "19) There are several students nearby, each of which has a certain number on the back. Students are going to divide into two teams, having counted them in two: those who are in even positions (based on 0) will go to team A, and those who are in an odd position will join the V. team\n",
    "\n",
    "Your task is to calculate the difference between the sums of numbers written on the backs of students who will join the team A, and those who are written on the backs of students who join the team B."
   ]
  },
  {
   "cell_type": "code",
   "execution_count": 12,
   "metadata": {},
   "outputs": [
    {
     "name": "stdout",
     "output_type": "stream",
     "text": [
      "-2\n"
     ]
    }
   ],
   "source": [
    "students = [1, 11, 13, 6, 14, 10, 23, 25, 16, 23, 30, 9]\n",
    "sum_o = 0\n",
    "sum_e = 0\n",
    "for i in students:\n",
    "    if i %2 ==1:\n",
    "        sum_o += 1\n",
    "    else: sum_e+=1\n",
    "print(sum_e - sum_o)\n",
    "# Код"
   ]
  },
  {
   "cell_type": "markdown",
   "metadata": {},
   "source": [
    "20) Write the program on Python to find numbers from 100 to 400 (both are included), where each number of numbers is an even number. The resulting numbers must be printed in the sequence through a comma."
   ]
  },
  {
   "cell_type": "code",
   "execution_count": 13,
   "metadata": {},
   "outputs": [
    {
     "name": "stdout",
     "output_type": "stream",
     "text": [
      "{100, 102, 104, 106, 108, 110, 112, 114, 116, 118, 120, 122, 124, 126, 128, 130, 132, 134, 136, 138, 140, 142, 144, 146, 148, 150, 152, 154, 156, 158, 160, 162, 164, 166, 168, 170, 172, 174, 176, 178, 180, 182, 184, 186, 188, 190, 192, 194, 196, 198, 200, 202, 204, 206, 208, 210, 212, 214, 216, 218, 220, 222, 224, 226, 228, 230, 232, 234, 236, 238, 240, 242, 244, 246, 248, 250, 252, 254, 256, 258, 260, 262, 264, 266, 268, 270, 272, 274, 276, 278, 280, 282, 284, 286, 288, 290, 292, 294, 296, 298, 300, 302, 304, 306, 308, 310, 312, 314, 316, 318, 320, 322, 324, 326, 328, 330, 332, 334, 336, 338, 340, 342, 344, 346, 348, 350, 352, 354, 356, 358, 360, 362, 364, 366, 368, 370, 372, 374, 376, 378, 380, 382, 384, 386, 388, 390, 392, 394, 396, 398}\n"
     ]
    }
   ],
   "source": [
    "print({i for i in range(100, 400) if i%2==0})"
   ]
  },
  {
   "cell_type": "markdown",
   "metadata": {},
   "source": [
    "# Great work!"
   ]
  }
 ],
 "metadata": {
  "kernelspec": {
   "display_name": "base",
   "language": "python",
   "name": "python3"
  },
  "language_info": {
   "codemirror_mode": {
    "name": "ipython",
    "version": 3
   },
   "file_extension": ".py",
   "mimetype": "text/x-python",
   "name": "python",
   "nbconvert_exporter": "python",
   "pygments_lexer": "ipython3",
   "version": "3.12.7"
  }
 },
 "nbformat": 4,
 "nbformat_minor": 2
}
