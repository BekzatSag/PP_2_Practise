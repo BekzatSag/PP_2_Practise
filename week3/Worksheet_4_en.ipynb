{
 "cells": [
  {
   "cell_type": "markdown",
   "metadata": {},
   "source": [
    "1) Write a function that returns the sum of two numbers.\n",
    "\n",
    "For example: for param1 = 1 and param2 = 2, the result should be\n",
    "add(param1, param2) = 3."
   ]
  },
  {
   "cell_type": "code",
   "execution_count": 2,
   "metadata": {},
   "outputs": [],
   "source": [
    "def add(param1,param2):\n",
    "    return param1 + param2\n",
    "    # Code here"
   ]
  },
  {
   "cell_type": "markdown",
   "metadata": {},
   "source": [
    "2) Given a year, return the century in which it is located. The first century covers the period from 1 year to 100, inclusive, the second - from 101 to 200, inclusive, etc.\n",
    "\n",
    "For example: for year = 1905, the result should be CenturyFromyear (EEAR) = 20;\n",
    "For the YEAR = 1700, the result should be CenturyFromyear (YEAR) = 17."
   ]
  },
  {
   "cell_type": "code",
   "execution_count": 3,
   "metadata": {},
   "outputs": [],
   "source": [
    "def centuryFromYear(year):\n",
    "    return year%100\n",
    "    # Code here"
   ]
  },
  {
   "cell_type": "markdown",
   "metadata": {},
   "source": [
    "3) Write a function that checks the line whether it is the palindrome (the palindrome is a line that is read the same from left to right and right to left).\n",
    "\n",
    "For example: for Inputstring = \"Aabaa\" the conclusion must be checkpalindrome (Inputstring) = True;\n",
    "\n",
    "For Inputstring = \"ABAC\" the conclusion must be checkpalindrome (Inputstring) = false;\n",
    "\n",
    "For Inputstring = \"A\" the conclusion must be checkpalindrome (Inputstring) = True."
   ]
  },
  {
   "cell_type": "code",
   "execution_count": 4,
   "metadata": {},
   "outputs": [],
   "source": [
    "def checkPalindrome(inputString):\n",
    "    temp =[inputString[::-1]]\n",
    "    if(temp==inputString): return True\n",
    "    return False\n",
    "    # Code here"
   ]
  },
  {
   "cell_type": "markdown",
   "metadata": {},
   "source": [
    "4) You are given a two -digit integer N. Return the amount of your numbers.\n",
    "\n",
    "For example: for n = 29, the conclusion should be Addtwodigits (N) = 11."
   ]
  },
  {
   "cell_type": "code",
   "execution_count": 5,
   "metadata": {},
   "outputs": [],
   "source": [
    "def addTwoDigits(n):\n",
    "    return n%10 + n//10\n",
    "    # Code here"
   ]
  },
  {
   "cell_type": "markdown",
   "metadata": {},
   "source": [
    "5) Having received an integer N, return the largest number that contains exactly n numbers.\n",
    "\n",
    "For example: for n = 2, the result should be Largestnumber (n) = 99."
   ]
  },
  {
   "cell_type": "code",
   "execution_count": 6,
   "metadata": {},
   "outputs": [],
   "source": [
    "def largestNumber(n):\n",
    "    temp = \"\"\n",
    "    for i in range(n):\n",
    "        temp+=\"9\"\n",
    "    return int(temp)\n",
    "    # Code here"
   ]
  },
  {
   "cell_type": "markdown",
   "metadata": {},
   "source": [
    "6) You are given three integers, a, b and c. It is guaranteed that two of these whole are equal to each other. What is the value of the third integer?\n",
    "\n",
    "For example: for A = 2, B = 7 and C = 2, the conclusion should be Extranumber (a, B, C) = 7. Two equal numbers are A and C. The third number b is 7, which is the answer."
   ]
  },
  {
   "cell_type": "code",
   "execution_count": 8,
   "metadata": {},
   "outputs": [],
   "source": [
    "def extraNumber(a, b, c):\n",
    "    list_num = [a,b,c]\n",
    "    for i in list_num:\n",
    "        if list_num.count(i)==1:\n",
    "            return i\n",
    "\n",
    "\n",
    "    # Code here"
   ]
  },
  {
   "cell_type": "markdown",
   "metadata": {},
   "source": [
    "7) Write the Python function, which accepts the sequence of numbers and determines whether all numbers differ from each other.\n",
    "\n",
    "For example: for XX_Markdown_Link_xx) = TRUE, for XX_Markdown_Link_xx) = False."
   ]
  },
  {
   "cell_type": "code",
   "execution_count": 10,
   "metadata": {},
   "outputs": [
    {
     "name": "stdout",
     "output_type": "stream",
     "text": [
      "No\n"
     ]
    }
   ],
   "source": [
    "def test_distinct(data):\n",
    "    for i in data:\n",
    "        if data.count(i) !=1:\n",
    "            return \"No\"\n",
    "    return \"Yes\"\n",
    "data =[1,2,2,4]\n",
    "print(test_distinct(data))\n",
    "    # Code here"
   ]
  },
  {
   "cell_type": "markdown",
   "metadata": {},
   "source": [
    "8) Write the Python function to summarize all numbers in the list.\n",
    "\n",
    "For example: for XX_Markdown_Link_xx = 20."
   ]
  },
  {
   "cell_type": "code",
   "execution_count": null,
   "metadata": {},
   "outputs": [],
   "source": [
    "def sum(numbers):\n",
    "    sum=0\n",
    "    for i in range(numbers):\n",
    "        sum+=i\n",
    "    return sum\n",
    "\n",
    "    # Code here"
   ]
  },
  {
   "cell_type": "markdown",
   "metadata": {},
   "source": [
    "9) Write the Python function, which accepts the number as a parameter and checks whether the number is simple or not.\n",
    "\n",
    "Note. A simple number is a natural number, more than 1, which has no positive dividers, except 1 and itself.\n",
    "\n",
    "For example: for the number 9, the conclusion should be test_prime (9) = false, and for the number 9 the conclusion must be test_prime (19) = true."
   ]
  },
  {
   "cell_type": "code",
   "execution_count": null,
   "metadata": {},
   "outputs": [],
   "source": [
    "def test_prime(n):\n",
    "    for i in range(n):\n",
    "        if n%i==0 and i!=1:\n",
    "            return False\n",
    "    return True\n",
    "    # Code here"
   ]
  },
  {
   "cell_type": "markdown",
   "metadata": {},
   "source": [
    "10) Some people stand in a row in the park. There are trees between them that cannot be moved. Your task is to rearrange people by their height in a non -waning order, without moving the trees. People can be very tall!\n",
    "\n",
    "For example: for a = [-1, 150, 190, 170, -1, -1, 160, 180] вывод должен быть sortByHeight(a) = [-1, 150, 160, 170, -1, -1, 180, 190].\n",
    "\n"
   ]
  },
  {
   "cell_type": "code",
   "execution_count": 24,
   "metadata": {},
   "outputs": [
    {
     "name": "stdout",
     "output_type": "stream",
     "text": [
      "[-1, 150, 160, 170, -1, -1, 180, 190]\n"
     ]
    }
   ],
   "source": [
    "def sortByHeight(a:list):\n",
    "    temp=[]\n",
    "    for i in a:\n",
    "        if i!=-1:\n",
    "            temp.append(i)\n",
    "    for i in range(len(temp)):\n",
    "        for j in range(len(temp)-1): \n",
    "            if temp[j] > temp[j+1]:   \n",
    "                temp[j], temp[j+1] = temp[j+1], temp[j]\n",
    "    for i in range(len(a)):\n",
    "        if a[i] == -1:\n",
    "            temp.insert(i, -1)\n",
    "    return temp\n",
    "a = [-1, 150, 190, 170, -1, -1, 160, 180]\n",
    "print(sortByHeight(a))\n",
    "\n",
    "\n",
    "    # Code here"
   ]
  },
  {
   "cell_type": "markdown",
   "metadata": {},
   "source": [
    "# Great work !!!"
   ]
  }
 ],
 "metadata": {
  "kernelspec": {
   "display_name": "base",
   "language": "python",
   "name": "python3"
  },
  "language_info": {
   "codemirror_mode": {
    "name": "ipython",
    "version": 3
   },
   "file_extension": ".py",
   "mimetype": "text/x-python",
   "name": "python",
   "nbconvert_exporter": "python",
   "pygments_lexer": "ipython3",
   "version": "3.12.7"
  }
 },
 "nbformat": 4,
 "nbformat_minor": 4
}
