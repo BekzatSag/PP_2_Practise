{
 "cells": [
  {
   "cell_type": "markdown",
   "metadata": {},
   "source": [
    "## 1"
   ]
  },
  {
   "cell_type": "code",
   "execution_count": 1,
   "metadata": {},
   "outputs": [
    {
     "name": "stdout",
     "output_type": "stream",
     "text": [
      "20.0 grams = 566.990462 ounces\n"
     ]
    }
   ],
   "source": [
    "def grams_to_ounces (grams):\n",
    "    return 28.3495231 * grams\n",
    "grams = float(input(\"Input the number of grams: \"))\n",
    "print(f\"{grams} grams = {grams_to_ounces(grams)} ounces\")"
   ]
  },
  {
   "cell_type": "markdown",
   "metadata": {},
   "source": [
    "## 2"
   ]
  },
  {
   "cell_type": "code",
   "execution_count": 2,
   "metadata": {},
   "outputs": [
    {
     "name": "stdout",
     "output_type": "stream",
     "text": [
      "20.0°F = -6.666666666666667°C\n"
     ]
    }
   ],
   "source": [
    "def F_to_C (F):\n",
    "    return (5 / 9) * (F - 32)\n",
    "temperature = float(input(\"Input the temperature in Fahrenheit: \"))\n",
    "print(f\"{temperature}°F = {F_to_C(temperature)}°C\")"
   ]
  },
  {
   "cell_type": "markdown",
   "metadata": {},
   "source": [
    "## 3"
   ]
  },
  {
   "cell_type": "code",
   "execution_count": 5,
   "metadata": {},
   "outputs": [
    {
     "name": "stdout",
     "output_type": "stream",
     "text": [
      "The number of rabbits is 12 and the number of chickens is 23\n"
     ]
    }
   ],
   "source": [
    "def puzzle (the_number_of_heads, the_number_of_legs):\n",
    "    numrabbits = int((the_number_of_legs - 2*the_number_of_heads)/2)\n",
    "    numchickens = the_number_of_heads - numrabbits\n",
    "    return numrabbits, numchickens\n",
    "\n",
    "numrabbits, numchickens = puzzle(int(input(\"Input the number of heads: \")), int(input(\"Input the number of legs: \")))\n",
    "print(f\"The number of rabbits is {numrabbits} and the number of chickens is {numchickens}\")"
   ]
  },
  {
   "cell_type": "markdown",
   "metadata": {},
   "source": [
    "## 4"
   ]
  },
  {
   "cell_type": "code",
   "execution_count": 4,
   "metadata": {},
   "outputs": [
    {
     "name": "stdout",
     "output_type": "stream",
     "text": [
      "[1, 3, 5, 7, 9, 11, 13, 1111]\n"
     ]
    }
   ],
   "source": [
    "odd_numbers = lambda num: num%2==1\n",
    "\n",
    "numbers = input(\"Please, input the numbers: \")\n",
    "print(list(filter(odd_numbers, [int(i) for i in numbers.split()])))\n"
   ]
  },
  {
   "cell_type": "markdown",
   "metadata": {},
   "source": [
    "## 5"
   ]
  },
  {
   "cell_type": "code",
   "execution_count": null,
   "metadata": {},
   "outputs": [
    {
     "name": "stdout",
     "output_type": "stream",
     "text": [
      "abc\n",
      "acb\n",
      "bac\n",
      "bca\n",
      "cba\n",
      "cab\n"
     ]
    },
    {
     "data": {
      "text/plain": [
       "'\\nit = 0 j = 0: abc\\nit = 0 j = 1: bac\\nit = 0 j = 2: cba\\nit = 1 \\n\\n\\n\\n\\n\\n\\n'"
      ]
     },
     "execution_count": 24,
     "metadata": {},
     "output_type": "execute_result"
    }
   ],
   "source": [
    "def permutations(some_string, it = 0):\n",
    "    if it == len(some_string):\n",
    "        print(\"\".join(some_string))\n",
    "        return 0\n",
    "        \n",
    "    for j in range(it, len(some_string)):\n",
    "        temp = some_string.copy()\n",
    "        temp[it], temp[j] = temp[j], temp[it]\n",
    "        permutations(temp, it+1)\n",
    "    \n",
    "        \n",
    "some_string = input(\"Input string: \")\n",
    "permutations(list(some_string))\n",
    "\n",
    "\"\"\"\n",
    "it = 0 j = 0: abc +\n",
    "it = 1 j = 1: abc \n",
    "it = 2 j = 2: abc\n",
    "it = 3 print\n",
    "\n",
    "\n",
    "it = 0 j = 1: bac +\n",
    "it = 1 j = 1: bac\n",
    "it = 2 j = 2 bac \n",
    "it = 3 print \n",
    "\n",
    "it = 0 j = 2: cba\n",
    "it = 1 j = 1: cba\n",
    "it = 2 j = 2 cba  \n",
    "it = 3 print \n",
    "\n",
    "--------------------------\n",
    "\n",
    "it = 1 j = 2 acb +\n",
    "it = 2 j = 2 acb\n",
    "print \n",
    "\n",
    "it = 1 j = 2 bca +\n",
    "it = 2 j =2 bca\n",
    "print \n",
    "\n",
    "it = 1 j = 2: cab\n",
    "it = 2 j =2 cab\n",
    "print\n",
    "_______________________________\n",
    "\n",
    "\n",
    "\n",
    "\n",
    "\n",
    "\n",
    "\n",
    "\n",
    "\"\"\""
   ]
  },
  {
   "cell_type": "markdown",
   "metadata": {},
   "source": [
    "## 6"
   ]
  },
  {
   "cell_type": "code",
   "execution_count": 14,
   "metadata": {},
   "outputs": [
    {
     "name": "stdout",
     "output_type": "stream",
     "text": [
      "!dlrow olleH\n"
     ]
    }
   ],
   "source": [
    "def reverse(some_string):\n",
    "    return some_string[-1::-1]\n",
    "\n",
    "some_string = input(\"Input string: \")\n",
    "print(reverse(some_string))"
   ]
  },
  {
   "cell_type": "markdown",
   "metadata": {},
   "source": [
    "## 7"
   ]
  },
  {
   "cell_type": "code",
   "execution_count": null,
   "metadata": {},
   "outputs": [
    {
     "name": "stdout",
     "output_type": "stream",
     "text": [
      "[1, 2, 3, 4, 5, 6, 3, 7, 8, 9, 10, 11, 1111]\n",
      "False\n"
     ]
    }
   ],
   "source": [
    "def has_33(numbers):\n",
    "    for i in range(len(numbers)):\n",
    "        if i==len(numbers)-1: break\n",
    "        if numbers[i] == 3 and numbers[i+1] == 3: return True\n",
    "    return False\n",
    "numbers = []\n",
    "while True:\n",
    "    temp = input(\"Input numbers: \")\n",
    "    if temp ==\"\": break\n",
    "    else: numbers.append(int(temp))\n",
    "print(numbers)\n",
    "print(has_33(numbers))"
   ]
  },
  {
   "cell_type": "markdown",
   "metadata": {},
   "source": [
    "## 8"
   ]
  },
  {
   "cell_type": "code",
   "execution_count": 33,
   "metadata": {},
   "outputs": [
    {
     "name": "stdout",
     "output_type": "stream",
     "text": [
      "['1', '2', '3', '4', '5', '6', '7', '0', '0', '7']\n",
      "True\n"
     ]
    }
   ],
   "source": [
    "def spy_game(numbers):\n",
    "    temp =\"\"\n",
    "    for i in numbers:\n",
    "        if int(i) == 0 or int(i) == 7:\n",
    "            temp+=i \n",
    "    if temp.count(\"007\"): return True\n",
    "    else: return False\n",
    "numbers = input(\"Please, input the numbers: \").split()\n",
    "print(numbers)\n",
    "print(spy_game(numbers))\n"
   ]
  },
  {
   "cell_type": "markdown",
   "metadata": {},
   "source": [
    "## 9"
   ]
  },
  {
   "cell_type": "code",
   "execution_count": 34,
   "metadata": {},
   "outputs": [
    {
     "name": "stdout",
     "output_type": "stream",
     "text": [
      "4186.666666666667\n"
     ]
    }
   ],
   "source": [
    "def volume(radius):\n",
    "    return (4 * 3.14 * radius**3)/3\n",
    "radius = float(input(\"Input radius: \")) \n",
    "print(volume(radius))"
   ]
  },
  {
   "cell_type": "markdown",
   "metadata": {},
   "source": [
    "## 10"
   ]
  },
  {
   "cell_type": "code",
   "execution_count": 38,
   "metadata": {},
   "outputs": [
    {
     "name": "stdout",
     "output_type": "stream",
     "text": [
      "['12', '12', '12', '0', 'o', 'op', 'o', 'kj', 'n', 'nj', 'kl']\n",
      "['12', '0', 'o', 'op', 'kj', 'n', 'nj', 'kl']\n"
     ]
    }
   ],
   "source": [
    "def unique_elem(numbers):\n",
    "    temp =[]\n",
    "    for i in numbers:\n",
    "        if temp.count(i)==0: temp.append(i)\n",
    "    return temp\n",
    "numbers = input(\"Please, input the numbers: \").split()\n",
    "print(numbers)\n",
    "print(unique_elem(numbers))\n"
   ]
  },
  {
   "cell_type": "markdown",
   "metadata": {},
   "source": [
    "## 11"
   ]
  },
  {
   "cell_type": "code",
   "execution_count": null,
   "metadata": {},
   "outputs": [
    {
     "name": "stdout",
     "output_type": "stream",
     "text": [
      "baba\n",
      "It is noy a palindrome\n"
     ]
    }
   ],
   "source": [
    "def palindrome(word):\n",
    "    temp = word[-1::-1]\n",
    "    if word == temp: print(\"It is a palindrome\")\n",
    "    else: print(\"It is not a palindrome\")\n",
    "word = input(\"Input some word: \")\n",
    "print(word)\n",
    "palindrome(word)\n"
   ]
  },
  {
   "cell_type": "markdown",
   "metadata": {},
   "source": [
    "## 12"
   ]
  },
  {
   "cell_type": "code",
   "execution_count": 48,
   "metadata": {},
   "outputs": [
    {
     "name": "stdout",
     "output_type": "stream",
     "text": [
      "****\n",
      "*********\n",
      "*******\n"
     ]
    }
   ],
   "source": [
    "def histogram (numbers):\n",
    "    for i in numbers:\n",
    "        temp =\"\"\n",
    "        for j in range (int(i)): temp+=\"*\"\n",
    "        print(temp)\n",
    "\n",
    "numbers = input(\"Input numbers: \").split()\n",
    "histogram(numbers)"
   ]
  },
  {
   "cell_type": "markdown",
   "metadata": {},
   "source": [
    "## 13"
   ]
  },
  {
   "cell_type": "code",
   "execution_count": 1,
   "metadata": {},
   "outputs": [
    {
     "name": "stdout",
     "output_type": "stream",
     "text": [
      "Hello! What is your name?\n",
      "Well, g, I am thinking of a number between 1 and 20 inclusively.\n",
      "Take the guess.\n",
      "9\n",
      "Good job, g! You guessed my number in 1 guesses!\n"
     ]
    }
   ],
   "source": [
    "import time\n",
    "def random_number(a, b): \n",
    "    return (int(time.time())%(b + 1-a)) + a\n",
    "print(\"Hello! What is your name?\")\n",
    "name = input()\n",
    "print(f\"Well, {name}, I am thinking of a number between 1 and 20 inclusively.\")\n",
    "print(\"Take the guess.\")\n",
    "ran_num = random_number(1, 20)\n",
    "print(ran_num) # for proffesor\n",
    "num = int(input())\n",
    "counter = 1\n",
    "while(num!=ran_num):\n",
    "    if (num>ran_num): print(\"Your guess is too high.\")\n",
    "    else: print(\"Your guess is too low.\")\n",
    "    print(\"Take a guess.\")\n",
    "    num = int(input())\n",
    "    counter+=1\n",
    "print(f\"Good job, {name}! You guessed my number in {counter} guesses!\")\n"
   ]
  }
 ],
 "metadata": {
  "kernelspec": {
   "display_name": "base",
   "language": "python",
   "name": "python3"
  },
  "language_info": {
   "codemirror_mode": {
    "name": "ipython",
    "version": 3
   },
   "file_extension": ".py",
   "mimetype": "text/x-python",
   "name": "python",
   "nbconvert_exporter": "python",
   "pygments_lexer": "ipython3",
   "version": "3.12.7"
  }
 },
 "nbformat": 4,
 "nbformat_minor": 2
}
