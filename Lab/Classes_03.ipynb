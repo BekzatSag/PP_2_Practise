{
 "cells": [
  {
   "cell_type": "markdown",
   "metadata": {},
   "source": [
    "## 1"
   ]
  },
  {
   "cell_type": "code",
   "execution_count": 2,
   "metadata": {},
   "outputs": [
    {
     "name": "stdout",
     "output_type": "stream",
     "text": [
      "AA\n"
     ]
    }
   ],
   "source": [
    "class upper:\n",
    "    def __init__(self):\n",
    "        self.text = str()\n",
    "    def get_string(self):\n",
    "        self.txt=input()\n",
    "    def print_string(self):\n",
    "        print(self.txt.upper())\n",
    "a = upper()\n",
    "a.get_string()\n",
    "a.print_string()\n",
    "\n"
   ]
  },
  {
   "cell_type": "markdown",
   "metadata": {},
   "source": [
    "## 2 - 3"
   ]
  },
  {
   "cell_type": "code",
   "execution_count": 15,
   "metadata": {},
   "outputs": [
    {
     "name": "stdout",
     "output_type": "stream",
     "text": [
      "0\n",
      "25\n",
      "56\n"
     ]
    }
   ],
   "source": [
    "class Shape:\n",
    "    def __init__(self, area_shape=0):\n",
    "        self.area_shape = area_shape\n",
    "    def area(self):\n",
    "        print(self.area_shape)\n",
    "\n",
    "class Square(Shape):\n",
    "    def __init__(self, length):\n",
    "        self.length = length\n",
    "        self.area_shape = self.length**2\n",
    "        Shape.__init__(self, self.area_shape)\n",
    "\n",
    "class Rectangle(Shape):\n",
    "    def __init__(self,length, width):\n",
    "        self.length = length\n",
    "        self.width = width\n",
    "        \n",
    "    def compute_area(self):\n",
    "        return self.length * self.width\n",
    "\n",
    "a = Shape()\n",
    "a.area()\n",
    "\n",
    "b = Square(5)\n",
    "b.area()\n",
    "\n",
    "c = Rectangle(7, 8)\n",
    "print(c.compute_area())\n",
    "\n",
    "    "
   ]
  },
  {
   "cell_type": "markdown",
   "metadata": {},
   "source": [
    "## 4"
   ]
  },
  {
   "cell_type": "code",
   "execution_count": 25,
   "metadata": {},
   "outputs": [
    {
     "name": "stdout",
     "output_type": "stream",
     "text": [
      "(6, 5)\n",
      "(1, 13)\n",
      "7.810249675906654\n"
     ]
    }
   ],
   "source": [
    "class Point:\n",
    "    def __init__(self, x, y):\n",
    "        self.x = x\n",
    "        self.y = y\n",
    "    def show(self):\n",
    "        print(\"({}, {})\".format(self.x, self.y))\n",
    "    def move(self, displacement_x, displacement_y):\n",
    "        self.x += displacement_x\n",
    "        self.y += displacement_y\n",
    "    def dist(self, x2, y2):\n",
    "        return ((self.x-x2)**2 + (self.y-y2)**2)**0.5\n",
    "a = Point(6, 5)\n",
    "a.show()\n",
    "a.move(-5, 8)\n",
    "a.show()\n",
    "b = Point(7, 8)\n",
    "\n",
    "print(a.dist(b.x, b.y))\n"
   ]
  },
  {
   "cell_type": "markdown",
   "metadata": {},
   "source": [
    "## 6"
   ]
  },
  {
   "cell_type": "code",
   "execution_count": 41,
   "metadata": {},
   "outputs": [
    {
     "name": "stdout",
     "output_type": "stream",
     "text": [
      "Balance: 130000.0.\n",
      "Balance: 260000.0.\n",
      "9\n",
      "It is not possible\n"
     ]
    }
   ],
   "source": [
    "class Account: \n",
    "    def __init__(self, owner, balance):\n",
    "        self.owner = owner\n",
    "        self.balance = balance\n",
    "    def deposit(self, percentage, years):   \n",
    "        self.balance += percentage/100 * years * self.balance\n",
    "    def withdraw(self, money):\n",
    "        if money > self.balance:\n",
    "            print(\"It is not possible\")\n",
    "        else: self.balance -= money\n",
    "    def __str__(self):\n",
    "        return f\"Balance: {self.balance}.\"\n",
    "    \n",
    "a = Account(\"Bekzat\", 100000)\n",
    "a.deposit(10, 3)\n",
    "print(a)\n",
    "\n",
    "a.deposit(20, 5)\n",
    "print(a)\n",
    "\n",
    "a.withdraw(1000000)\n"
   ]
  },
  {
   "cell_type": "markdown",
   "metadata": {},
   "source": [
    "## 6"
   ]
  },
  {
   "cell_type": "code",
   "execution_count": 6,
   "metadata": {},
   "outputs": [
    {
     "name": "stdout",
     "output_type": "stream",
     "text": [
      "[2, 3, 89, 7]\n"
     ]
    }
   ],
   "source": [
    "\n",
    "list_nums = input().split()\n",
    "list_nums = [int (i) for i in list_nums]\n",
    "print(list(filter(lambda x: x!=1 and all(x % i!=0 for i in range(2, x)), list_nums) ))"
   ]
  }
 ],
 "metadata": {
  "kernelspec": {
   "display_name": "base",
   "language": "python",
   "name": "python3"
  },
  "language_info": {
   "codemirror_mode": {
    "name": "ipython",
    "version": 3
   },
   "file_extension": ".py",
   "mimetype": "text/x-python",
   "name": "python",
   "nbconvert_exporter": "python",
   "pygments_lexer": "ipython3",
   "version": "3.12.7"
  }
 },
 "nbformat": 4,
 "nbformat_minor": 2
}
